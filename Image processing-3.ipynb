{
 "cells": [
  {
   "cell_type": "code",
   "execution_count": 1,
   "id": "academic-provision",
   "metadata": {},
   "outputs": [],
   "source": [
    "from PIL import Image\n",
    "import PIL\n",
    "\n",
    "filename = 'Trevor.jpg'\n",
    "filepath = f\"Desktop/Research_Image/{filename}\"\n",
    "\n",
    "# load original image\n",
    "orig_im = Image.open(filepath)\n",
    "\n",
    "# get image size\n",
    "width, height = orig_im.size\n",
    "\n",
    "# resize image\n",
    "fixed_height = 420\n",
    "height_percent = (fixed_height / float(height))\n",
    "width_size = int((float(width) * float(height_percent)))\n",
    "orig_im = orig_im.resize((width_size, fixed_height), PIL.Image.NEAREST)\n",
    "\n",
    "# rexamine image size \n",
    "width, height = orig_im.size\n",
    "\n",
    "# get color mode\n",
    "mode = orig_im.mode"
   ]
  },
  {
   "cell_type": "code",
   "execution_count": 2,
   "id": "atlantic-venture",
   "metadata": {},
   "outputs": [],
   "source": [
    "import numpy as np\n",
    "im_no = 1\n",
    "for factor in ['1','L','YCbCr','RGB']:\n",
    "    im_bitdepth = orig_im.convert(factor)\n",
    "    name = 'Desktop/Research_Image/bitdepth_' + str(im_no) + '.jpg'\n",
    "    im_bitdepth.save(name, 'JPEG')\n",
    "    im_no += 1"
   ]
  },
  {
   "cell_type": "code",
   "execution_count": 4,
   "id": "secure-recipe",
   "metadata": {},
   "outputs": [],
   "source": [
    "im_brightness = Image.new(mode, (width, height))\n",
    "im_no = 0.5\n",
    "for brightness_factor in [0.5,0.75,1,1.25,1.5]:\n",
    "    for x in range(width):\n",
    "        for y in range(height):\n",
    "            orig_rgb = orig_im.getpixel((x,y))\n",
    "            new_rgb = tuple(int(c*brightness_factor) for c in orig_rgb)\n",
    "            im_brightness.putpixel((x,y), new_rgb)\n",
    "    name = 'Desktop/Research_Image/brightness_' + str(im_no) + '.jpg'\n",
    "    im_brightness.save(name, 'JPEG')\n",
    "    im_no += 0.25"
   ]
  },
  {
   "cell_type": "code",
   "execution_count": 8,
   "id": "decimal-strike",
   "metadata": {},
   "outputs": [],
   "source": [
    "im_contrast = Image.new(mode, (width, height))\n",
    "im_no = -1\n",
    "for level in [-1, -0.5, 0, 0.5, 1, 1.5]:\n",
    "    for x in range(width):\n",
    "        for y in range(height):\n",
    "            factor = (259 * ((level*100)+255)) / (255 * (259-(level*100)))\n",
    "            orig_rgb = orig_im.getpixel((x, y))\n",
    "            new_rgb = tuple(int(factor * (c-128) + 128) for c in orig_rgb)\n",
    "            im_contrast.putpixel((x, y), new_rgb)\n",
    "    name = 'Desktop/Research_Image/contrast_' + str(im_no) + '.jpg'\n",
    "    im_contrast.save(name, 'JPEG')\n",
    "    im_no += 0.5"
   ]
  },
  {
   "cell_type": "code",
   "execution_count": null,
   "id": "mexican-sacrifice",
   "metadata": {},
   "outputs": [],
   "source": []
  }
 ],
 "metadata": {
  "kernelspec": {
   "display_name": "Python 3",
   "language": "python",
   "name": "python3"
  },
  "language_info": {
   "codemirror_mode": {
    "name": "ipython",
    "version": 3
   },
   "file_extension": ".py",
   "mimetype": "text/x-python",
   "name": "python",
   "nbconvert_exporter": "python",
   "pygments_lexer": "ipython3",
   "version": "3.8.5"
  }
 },
 "nbformat": 4,
 "nbformat_minor": 5
}
